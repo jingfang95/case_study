{
  "nbformat": 4,
  "nbformat_minor": 0,
  "metadata": {
    "colab": {
      "name": "Case Study.ipynb",
      "provenance": [],
      "authorship_tag": "ABX9TyNmEGy5IyYox95lWMo/aBFs",
      "include_colab_link": true
    },
    "kernelspec": {
      "name": "python3",
      "display_name": "Python 3"
    },
    "language_info": {
      "name": "python"
    }
  },
  "cells": [
    {
      "cell_type": "markdown",
      "metadata": {
        "id": "view-in-github",
        "colab_type": "text"
      },
      "source": [
        "<a href=\"https://colab.research.google.com/github/jingfang95/case_study/blob/main/Case_Study.ipynb\" target=\"_parent\"><img src=\"https://colab.research.google.com/assets/colab-badge.svg\" alt=\"Open In Colab\"/></a>"
      ]
    },
    {
      "cell_type": "code",
      "metadata": {
        "id": "GfPrRRzO1Vbl"
      },
      "source": [
        "import numpy as np\n",
        "import pandas as pd\n",
        "import matplotlib.pyplot as plt\n",
        "import seaborn as sns\n",
        "from datetime import timedelta\n",
        "import warnings\n",
        "warnings.filterwarnings('ignore')"
      ],
      "execution_count": 99,
      "outputs": []
    },
    {
      "cell_type": "markdown",
      "metadata": {
        "id": "Rd06KUgK1g1F"
      },
      "source": [
        "#### Load dataset and check missing value"
      ]
    },
    {
      "cell_type": "code",
      "metadata": {
        "colab": {
          "base_uri": "https://localhost:8080/",
          "height": 309
        },
        "id": "zDkCpxVa1cYp",
        "outputId": "3a986999-8acf-417a-e4c9-e255497c6589"
      },
      "source": [
        "data = pd.read_excel('data_manipulation_for_interview_202109.xlsx', sheet_name='data')\n",
        "data.head(5)"
      ],
      "execution_count": null,
      "outputs": [
        {
          "output_type": "execute_result",
          "data": {
            "text/html": [
              "<div>\n",
              "<style scoped>\n",
              "    .dataframe tbody tr th:only-of-type {\n",
              "        vertical-align: middle;\n",
              "    }\n",
              "\n",
              "    .dataframe tbody tr th {\n",
              "        vertical-align: top;\n",
              "    }\n",
              "\n",
              "    .dataframe thead th {\n",
              "        text-align: right;\n",
              "    }\n",
              "</style>\n",
              "<table border=\"1\" class=\"dataframe\">\n",
              "  <thead>\n",
              "    <tr style=\"text-align: right;\">\n",
              "      <th></th>\n",
              "      <th>id</th>\n",
              "      <th>credit_report_id</th>\n",
              "      <th>tradeline_index</th>\n",
              "      <th>user_id</th>\n",
              "      <th>portfolioType</th>\n",
              "      <th>creditLimit</th>\n",
              "      <th>highCredit</th>\n",
              "      <th>currentBalance</th>\n",
              "      <th>terms_in_month</th>\n",
              "      <th>scheduledMonthlyPayment</th>\n",
              "      <th>dateOpened</th>\n",
              "      <th>dateReported</th>\n",
              "      <th>dateClosed</th>\n",
              "      <th>mostRecentPayment_date</th>\n",
              "      <th>dataPulled</th>\n",
              "    </tr>\n",
              "  </thead>\n",
              "  <tbody>\n",
              "    <tr>\n",
              "      <th>0</th>\n",
              "      <td>1</td>\n",
              "      <td>5dbb7b2af50df923e06c9973</td>\n",
              "      <td>0</td>\n",
              "      <td>5dbb7b29f50df923e06c9970</td>\n",
              "      <td>revolving</td>\n",
              "      <td>400.0</td>\n",
              "      <td>257.0</td>\n",
              "      <td>150.0</td>\n",
              "      <td>MIN</td>\n",
              "      <td>8.0</td>\n",
              "      <td>2019-07-17</td>\n",
              "      <td>2019-10-12</td>\n",
              "      <td>NaT</td>\n",
              "      <td>2019-09-03</td>\n",
              "      <td>2019-11-01 00:24:10.245</td>\n",
              "    </tr>\n",
              "    <tr>\n",
              "      <th>1</th>\n",
              "      <td>2</td>\n",
              "      <td>5dbb7b2af50df923e06c9973</td>\n",
              "      <td>1</td>\n",
              "      <td>5dbb7b29f50df923e06c9970</td>\n",
              "      <td>installment</td>\n",
              "      <td>NaN</td>\n",
              "      <td>38910.0</td>\n",
              "      <td>15656.0</td>\n",
              "      <td>75</td>\n",
              "      <td>672.0</td>\n",
              "      <td>2015-04-18</td>\n",
              "      <td>2019-09-30</td>\n",
              "      <td>NaT</td>\n",
              "      <td>2019-08-27</td>\n",
              "      <td>2019-11-01 00:24:10.245</td>\n",
              "    </tr>\n",
              "    <tr>\n",
              "      <th>2</th>\n",
              "      <td>3</td>\n",
              "      <td>5dbb7b2af50df923e06c9973</td>\n",
              "      <td>2</td>\n",
              "      <td>5dbb7b29f50df923e06c9970</td>\n",
              "      <td>installment</td>\n",
              "      <td>NaN</td>\n",
              "      <td>32636.0</td>\n",
              "      <td>32018.0</td>\n",
              "      <td>108</td>\n",
              "      <td>461.0</td>\n",
              "      <td>2019-05-09</td>\n",
              "      <td>2019-09-30</td>\n",
              "      <td>NaT</td>\n",
              "      <td>2019-09-24</td>\n",
              "      <td>2019-11-01 00:24:10.245</td>\n",
              "    </tr>\n",
              "    <tr>\n",
              "      <th>3</th>\n",
              "      <td>4</td>\n",
              "      <td>5dbb7b2af50df923e06c9973</td>\n",
              "      <td>3</td>\n",
              "      <td>5dbb7b29f50df923e06c9970</td>\n",
              "      <td>installment</td>\n",
              "      <td>NaN</td>\n",
              "      <td>40143.0</td>\n",
              "      <td>0.0</td>\n",
              "      <td>73</td>\n",
              "      <td>NaN</td>\n",
              "      <td>2014-06-21</td>\n",
              "      <td>2019-07-08</td>\n",
              "      <td>2019-07-08</td>\n",
              "      <td>2019-07-08</td>\n",
              "      <td>2019-11-01 00:24:10.245</td>\n",
              "    </tr>\n",
              "    <tr>\n",
              "      <th>4</th>\n",
              "      <td>5</td>\n",
              "      <td>5dbb7b2af50df923e06c9973</td>\n",
              "      <td>4</td>\n",
              "      <td>5dbb7b29f50df923e06c9970</td>\n",
              "      <td>installment</td>\n",
              "      <td>NaN</td>\n",
              "      <td>4000.0</td>\n",
              "      <td>0.0</td>\n",
              "      <td>36</td>\n",
              "      <td>NaN</td>\n",
              "      <td>2015-11-06</td>\n",
              "      <td>2017-10-07</td>\n",
              "      <td>2017-10-07</td>\n",
              "      <td>2017-10-07</td>\n",
              "      <td>2019-11-01 00:24:10.245</td>\n",
              "    </tr>\n",
              "  </tbody>\n",
              "</table>\n",
              "</div>"
            ],
            "text/plain": [
              "   id          credit_report_id  ...  mostRecentPayment_date              dataPulled\n",
              "0   1  5dbb7b2af50df923e06c9973  ...              2019-09-03 2019-11-01 00:24:10.245\n",
              "1   2  5dbb7b2af50df923e06c9973  ...              2019-08-27 2019-11-01 00:24:10.245\n",
              "2   3  5dbb7b2af50df923e06c9973  ...              2019-09-24 2019-11-01 00:24:10.245\n",
              "3   4  5dbb7b2af50df923e06c9973  ...              2019-07-08 2019-11-01 00:24:10.245\n",
              "4   5  5dbb7b2af50df923e06c9973  ...              2017-10-07 2019-11-01 00:24:10.245\n",
              "\n",
              "[5 rows x 15 columns]"
            ]
          },
          "metadata": {},
          "execution_count": 3
        }
      ]
    },
    {
      "cell_type": "code",
      "metadata": {
        "colab": {
          "base_uri": "https://localhost:8080/"
        },
        "id": "n4VqrQjl1w_F",
        "outputId": "d725799a-73e4-4a50-ffb3-31532bff9be2"
      },
      "source": [
        "data.info()"
      ],
      "execution_count": null,
      "outputs": [
        {
          "output_type": "stream",
          "name": "stdout",
          "text": [
            "<class 'pandas.core.frame.DataFrame'>\n",
            "RangeIndex: 24837 entries, 0 to 24836\n",
            "Data columns (total 15 columns):\n",
            " #   Column                   Non-Null Count  Dtype         \n",
            "---  ------                   --------------  -----         \n",
            " 0   id                       24837 non-null  int64         \n",
            " 1   credit_report_id         24837 non-null  object        \n",
            " 2   tradeline_index          24837 non-null  int64         \n",
            " 3   user_id                  24837 non-null  object        \n",
            " 4   portfolioType            24837 non-null  object        \n",
            " 5   creditLimit              12685 non-null  float64       \n",
            " 6   highCredit               24810 non-null  float64       \n",
            " 7   currentBalance           24701 non-null  float64       \n",
            " 8   terms_in_month           17615 non-null  object        \n",
            " 9   scheduledMonthlyPayment  9245 non-null   float64       \n",
            " 10  dateOpened               24833 non-null  datetime64[ns]\n",
            " 11  dateReported             24837 non-null  datetime64[ns]\n",
            " 12  dateClosed               13957 non-null  datetime64[ns]\n",
            " 13  mostRecentPayment_date   22715 non-null  datetime64[ns]\n",
            " 14  dataPulled               24837 non-null  datetime64[ns]\n",
            "dtypes: datetime64[ns](5), float64(4), int64(2), object(4)\n",
            "memory usage: 2.8+ MB\n"
          ]
        }
      ]
    },
    {
      "cell_type": "code",
      "metadata": {
        "colab": {
          "base_uri": "https://localhost:8080/",
          "height": 297
        },
        "id": "eNt-JQtt19Df",
        "outputId": "6c5777a0-cd67-4797-b376-6418fac666bf"
      },
      "source": [
        "data.describe()"
      ],
      "execution_count": null,
      "outputs": [
        {
          "output_type": "execute_result",
          "data": {
            "text/html": [
              "<div>\n",
              "<style scoped>\n",
              "    .dataframe tbody tr th:only-of-type {\n",
              "        vertical-align: middle;\n",
              "    }\n",
              "\n",
              "    .dataframe tbody tr th {\n",
              "        vertical-align: top;\n",
              "    }\n",
              "\n",
              "    .dataframe thead th {\n",
              "        text-align: right;\n",
              "    }\n",
              "</style>\n",
              "<table border=\"1\" class=\"dataframe\">\n",
              "  <thead>\n",
              "    <tr style=\"text-align: right;\">\n",
              "      <th></th>\n",
              "      <th>id</th>\n",
              "      <th>tradeline_index</th>\n",
              "      <th>creditLimit</th>\n",
              "      <th>highCredit</th>\n",
              "      <th>currentBalance</th>\n",
              "      <th>scheduledMonthlyPayment</th>\n",
              "    </tr>\n",
              "  </thead>\n",
              "  <tbody>\n",
              "    <tr>\n",
              "      <th>count</th>\n",
              "      <td>24837.000000</td>\n",
              "      <td>24837.000000</td>\n",
              "      <td>12685.000000</td>\n",
              "      <td>2.481000e+04</td>\n",
              "      <td>2.470100e+04</td>\n",
              "      <td>9245.000000</td>\n",
              "    </tr>\n",
              "    <tr>\n",
              "      <th>mean</th>\n",
              "      <td>12419.000000</td>\n",
              "      <td>20.349720</td>\n",
              "      <td>3088.960899</td>\n",
              "      <td>1.390440e+04</td>\n",
              "      <td>4.778116e+03</td>\n",
              "      <td>207.448675</td>\n",
              "    </tr>\n",
              "    <tr>\n",
              "      <th>std</th>\n",
              "      <td>7169.968654</td>\n",
              "      <td>24.251006</td>\n",
              "      <td>8288.584469</td>\n",
              "      <td>5.192883e+04</td>\n",
              "      <td>3.113697e+04</td>\n",
              "      <td>384.993762</td>\n",
              "    </tr>\n",
              "    <tr>\n",
              "      <th>min</th>\n",
              "      <td>1.000000</td>\n",
              "      <td>0.000000</td>\n",
              "      <td>0.000000</td>\n",
              "      <td>0.000000e+00</td>\n",
              "      <td>0.000000e+00</td>\n",
              "      <td>1.000000</td>\n",
              "    </tr>\n",
              "    <tr>\n",
              "      <th>25%</th>\n",
              "      <td>6210.000000</td>\n",
              "      <td>7.000000</td>\n",
              "      <td>500.000000</td>\n",
              "      <td>7.510000e+02</td>\n",
              "      <td>0.000000e+00</td>\n",
              "      <td>35.000000</td>\n",
              "    </tr>\n",
              "    <tr>\n",
              "      <th>50%</th>\n",
              "      <td>12419.000000</td>\n",
              "      <td>14.000000</td>\n",
              "      <td>1300.000000</td>\n",
              "      <td>2.216500e+03</td>\n",
              "      <td>0.000000e+00</td>\n",
              "      <td>76.000000</td>\n",
              "    </tr>\n",
              "    <tr>\n",
              "      <th>75%</th>\n",
              "      <td>18628.000000</td>\n",
              "      <td>26.000000</td>\n",
              "      <td>3000.000000</td>\n",
              "      <td>8.037000e+03</td>\n",
              "      <td>1.274000e+03</td>\n",
              "      <td>239.000000</td>\n",
              "    </tr>\n",
              "    <tr>\n",
              "      <th>max</th>\n",
              "      <td>24837.000000</td>\n",
              "      <td>263.000000</td>\n",
              "      <td>265000.000000</td>\n",
              "      <td>1.942250e+06</td>\n",
              "      <td>1.917688e+06</td>\n",
              "      <td>12003.000000</td>\n",
              "    </tr>\n",
              "  </tbody>\n",
              "</table>\n",
              "</div>"
            ],
            "text/plain": [
              "                 id  tradeline_index  ...  currentBalance  scheduledMonthlyPayment\n",
              "count  24837.000000     24837.000000  ...    2.470100e+04              9245.000000\n",
              "mean   12419.000000        20.349720  ...    4.778116e+03               207.448675\n",
              "std     7169.968654        24.251006  ...    3.113697e+04               384.993762\n",
              "min        1.000000         0.000000  ...    0.000000e+00                 1.000000\n",
              "25%     6210.000000         7.000000  ...    0.000000e+00                35.000000\n",
              "50%    12419.000000        14.000000  ...    0.000000e+00                76.000000\n",
              "75%    18628.000000        26.000000  ...    1.274000e+03               239.000000\n",
              "max    24837.000000       263.000000  ...    1.917688e+06             12003.000000\n",
              "\n",
              "[8 rows x 6 columns]"
            ]
          },
          "metadata": {},
          "execution_count": 5
        }
      ]
    },
    {
      "cell_type": "code",
      "metadata": {
        "colab": {
          "base_uri": "https://localhost:8080/",
          "height": 266
        },
        "id": "I2BkJbVgEb58",
        "outputId": "aa40040f-c452-42a0-9fa4-186591638c6f"
      },
      "source": [
        "# print(pd.options.display.max_rows)\n",
        "# pd.options.display.max_columns = 0\n",
        "# for i in ['creditLimit', 'highCredit', 'currentBalance', 'scheduledMonthlyPayment']:\n",
        "data.groupby(['portfolioType'])[['creditLimit']].describe()"
      ],
      "execution_count": 52,
      "outputs": [
        {
          "output_type": "execute_result",
          "data": {
            "text/html": [
              "<div>\n",
              "<style scoped>\n",
              "    .dataframe tbody tr th:only-of-type {\n",
              "        vertical-align: middle;\n",
              "    }\n",
              "\n",
              "    .dataframe tbody tr th {\n",
              "        vertical-align: top;\n",
              "    }\n",
              "\n",
              "    .dataframe thead tr th {\n",
              "        text-align: left;\n",
              "    }\n",
              "\n",
              "    .dataframe thead tr:last-of-type th {\n",
              "        text-align: right;\n",
              "    }\n",
              "</style>\n",
              "<table border=\"1\" class=\"dataframe\">\n",
              "  <thead>\n",
              "    <tr>\n",
              "      <th></th>\n",
              "      <th colspan=\"8\" halign=\"left\">creditLimit</th>\n",
              "    </tr>\n",
              "    <tr>\n",
              "      <th></th>\n",
              "      <th>count</th>\n",
              "      <th>mean</th>\n",
              "      <th>std</th>\n",
              "      <th>min</th>\n",
              "      <th>25%</th>\n",
              "      <th>50%</th>\n",
              "      <th>75%</th>\n",
              "      <th>max</th>\n",
              "    </tr>\n",
              "    <tr>\n",
              "      <th>portfolioType</th>\n",
              "      <th></th>\n",
              "      <th></th>\n",
              "      <th></th>\n",
              "      <th></th>\n",
              "      <th></th>\n",
              "      <th></th>\n",
              "      <th></th>\n",
              "      <th></th>\n",
              "    </tr>\n",
              "  </thead>\n",
              "  <tbody>\n",
              "    <tr>\n",
              "      <th>installment</th>\n",
              "      <td>0.0</td>\n",
              "      <td>NaN</td>\n",
              "      <td>NaN</td>\n",
              "      <td>NaN</td>\n",
              "      <td>NaN</td>\n",
              "      <td>NaN</td>\n",
              "      <td>NaN</td>\n",
              "      <td>NaN</td>\n",
              "    </tr>\n",
              "    <tr>\n",
              "      <th>lineOfCredit</th>\n",
              "      <td>242.0</td>\n",
              "      <td>23290.004132</td>\n",
              "      <td>46424.420231</td>\n",
              "      <td>200.0</td>\n",
              "      <td>1000.0</td>\n",
              "      <td>3000.0</td>\n",
              "      <td>21775.0</td>\n",
              "      <td>265000.0</td>\n",
              "    </tr>\n",
              "    <tr>\n",
              "      <th>mortgage</th>\n",
              "      <td>0.0</td>\n",
              "      <td>NaN</td>\n",
              "      <td>NaN</td>\n",
              "      <td>NaN</td>\n",
              "      <td>NaN</td>\n",
              "      <td>NaN</td>\n",
              "      <td>NaN</td>\n",
              "      <td>NaN</td>\n",
              "    </tr>\n",
              "    <tr>\n",
              "      <th>open</th>\n",
              "      <td>0.0</td>\n",
              "      <td>NaN</td>\n",
              "      <td>NaN</td>\n",
              "      <td>NaN</td>\n",
              "      <td>NaN</td>\n",
              "      <td>NaN</td>\n",
              "      <td>NaN</td>\n",
              "      <td>NaN</td>\n",
              "    </tr>\n",
              "    <tr>\n",
              "      <th>revolving</th>\n",
              "      <td>12443.0</td>\n",
              "      <td>2696.077152</td>\n",
              "      <td>4494.299856</td>\n",
              "      <td>0.0</td>\n",
              "      <td>500.0</td>\n",
              "      <td>1300.0</td>\n",
              "      <td>3000.0</td>\n",
              "      <td>176000.0</td>\n",
              "    </tr>\n",
              "  </tbody>\n",
              "</table>\n",
              "</div>"
            ],
            "text/plain": [
              "              creditLimit                ...                   \n",
              "                    count          mean  ...      75%       max\n",
              "portfolioType                            ...                   \n",
              "installment           0.0           NaN  ...      NaN       NaN\n",
              "lineOfCredit        242.0  23290.004132  ...  21775.0  265000.0\n",
              "mortgage              0.0           NaN  ...      NaN       NaN\n",
              "open                  0.0           NaN  ...      NaN       NaN\n",
              "revolving         12443.0   2696.077152  ...   3000.0  176000.0\n",
              "\n",
              "[5 rows x 8 columns]"
            ]
          },
          "metadata": {},
          "execution_count": 52
        }
      ]
    },
    {
      "cell_type": "code",
      "metadata": {
        "colab": {
          "base_uri": "https://localhost:8080/",
          "height": 266
        },
        "id": "ZqKkSd5tH9L2",
        "outputId": "50531e7f-eddc-4a05-adac-afe3c2a9b855"
      },
      "source": [
        "data.groupby(['portfolioType'])[['highCredit']].describe()"
      ],
      "execution_count": 53,
      "outputs": [
        {
          "output_type": "execute_result",
          "data": {
            "text/html": [
              "<div>\n",
              "<style scoped>\n",
              "    .dataframe tbody tr th:only-of-type {\n",
              "        vertical-align: middle;\n",
              "    }\n",
              "\n",
              "    .dataframe tbody tr th {\n",
              "        vertical-align: top;\n",
              "    }\n",
              "\n",
              "    .dataframe thead tr th {\n",
              "        text-align: left;\n",
              "    }\n",
              "\n",
              "    .dataframe thead tr:last-of-type th {\n",
              "        text-align: right;\n",
              "    }\n",
              "</style>\n",
              "<table border=\"1\" class=\"dataframe\">\n",
              "  <thead>\n",
              "    <tr>\n",
              "      <th></th>\n",
              "      <th colspan=\"8\" halign=\"left\">highCredit</th>\n",
              "    </tr>\n",
              "    <tr>\n",
              "      <th></th>\n",
              "      <th>count</th>\n",
              "      <th>mean</th>\n",
              "      <th>std</th>\n",
              "      <th>min</th>\n",
              "      <th>25%</th>\n",
              "      <th>50%</th>\n",
              "      <th>75%</th>\n",
              "      <th>max</th>\n",
              "    </tr>\n",
              "    <tr>\n",
              "      <th>portfolioType</th>\n",
              "      <th></th>\n",
              "      <th></th>\n",
              "      <th></th>\n",
              "      <th></th>\n",
              "      <th></th>\n",
              "      <th></th>\n",
              "      <th></th>\n",
              "      <th></th>\n",
              "    </tr>\n",
              "  </thead>\n",
              "  <tbody>\n",
              "    <tr>\n",
              "      <th>installment</th>\n",
              "      <td>10901.0</td>\n",
              "      <td>11096.223282</td>\n",
              "      <td>22513.026234</td>\n",
              "      <td>2.0</td>\n",
              "      <td>1826.0</td>\n",
              "      <td>5469.0</td>\n",
              "      <td>15000.0</td>\n",
              "      <td>1206940.0</td>\n",
              "    </tr>\n",
              "    <tr>\n",
              "      <th>lineOfCredit</th>\n",
              "      <td>244.0</td>\n",
              "      <td>22127.754098</td>\n",
              "      <td>47575.576118</td>\n",
              "      <td>0.0</td>\n",
              "      <td>983.0</td>\n",
              "      <td>2500.0</td>\n",
              "      <td>15548.0</td>\n",
              "      <td>295607.0</td>\n",
              "    </tr>\n",
              "    <tr>\n",
              "      <th>mortgage</th>\n",
              "      <td>873.0</td>\n",
              "      <td>215799.278351</td>\n",
              "      <td>163018.861771</td>\n",
              "      <td>3685.0</td>\n",
              "      <td>108000.0</td>\n",
              "      <td>179550.0</td>\n",
              "      <td>276070.0</td>\n",
              "      <td>1942250.0</td>\n",
              "    </tr>\n",
              "    <tr>\n",
              "      <th>open</th>\n",
              "      <td>280.0</td>\n",
              "      <td>3176.996429</td>\n",
              "      <td>6894.225762</td>\n",
              "      <td>0.0</td>\n",
              "      <td>0.0</td>\n",
              "      <td>723.0</td>\n",
              "      <td>2635.0</td>\n",
              "      <td>69584.0</td>\n",
              "    </tr>\n",
              "    <tr>\n",
              "      <th>revolving</th>\n",
              "      <td>12512.0</td>\n",
              "      <td>2343.897219</td>\n",
              "      <td>4443.454958</td>\n",
              "      <td>0.0</td>\n",
              "      <td>431.0</td>\n",
              "      <td>1010.0</td>\n",
              "      <td>2522.0</td>\n",
              "      <td>176952.0</td>\n",
              "    </tr>\n",
              "  </tbody>\n",
              "</table>\n",
              "</div>"
            ],
            "text/plain": [
              "              highCredit                 ...                     \n",
              "                   count           mean  ...       75%        max\n",
              "portfolioType                            ...                     \n",
              "installment      10901.0   11096.223282  ...   15000.0  1206940.0\n",
              "lineOfCredit       244.0   22127.754098  ...   15548.0   295607.0\n",
              "mortgage           873.0  215799.278351  ...  276070.0  1942250.0\n",
              "open               280.0    3176.996429  ...    2635.0    69584.0\n",
              "revolving        12512.0    2343.897219  ...    2522.0   176952.0\n",
              "\n",
              "[5 rows x 8 columns]"
            ]
          },
          "metadata": {},
          "execution_count": 53
        }
      ]
    },
    {
      "cell_type": "code",
      "metadata": {
        "colab": {
          "base_uri": "https://localhost:8080/",
          "height": 266
        },
        "id": "gwHcSBoGICZO",
        "outputId": "57683573-f172-41b7-a24e-e3f850eb31f4"
      },
      "source": [
        "data.groupby(['portfolioType'])[['currentBalance']].describe()"
      ],
      "execution_count": 54,
      "outputs": [
        {
          "output_type": "execute_result",
          "data": {
            "text/html": [
              "<div>\n",
              "<style scoped>\n",
              "    .dataframe tbody tr th:only-of-type {\n",
              "        vertical-align: middle;\n",
              "    }\n",
              "\n",
              "    .dataframe tbody tr th {\n",
              "        vertical-align: top;\n",
              "    }\n",
              "\n",
              "    .dataframe thead tr th {\n",
              "        text-align: left;\n",
              "    }\n",
              "\n",
              "    .dataframe thead tr:last-of-type th {\n",
              "        text-align: right;\n",
              "    }\n",
              "</style>\n",
              "<table border=\"1\" class=\"dataframe\">\n",
              "  <thead>\n",
              "    <tr>\n",
              "      <th></th>\n",
              "      <th colspan=\"8\" halign=\"left\">currentBalance</th>\n",
              "    </tr>\n",
              "    <tr>\n",
              "      <th></th>\n",
              "      <th>count</th>\n",
              "      <th>mean</th>\n",
              "      <th>std</th>\n",
              "      <th>min</th>\n",
              "      <th>25%</th>\n",
              "      <th>50%</th>\n",
              "      <th>75%</th>\n",
              "      <th>max</th>\n",
              "    </tr>\n",
              "    <tr>\n",
              "      <th>portfolioType</th>\n",
              "      <th></th>\n",
              "      <th></th>\n",
              "      <th></th>\n",
              "      <th></th>\n",
              "      <th></th>\n",
              "      <th></th>\n",
              "      <th></th>\n",
              "      <th></th>\n",
              "    </tr>\n",
              "  </thead>\n",
              "  <tbody>\n",
              "    <tr>\n",
              "      <th>installment</th>\n",
              "      <td>10843.0</td>\n",
              "      <td>3595.474961</td>\n",
              "      <td>14857.894007</td>\n",
              "      <td>0.0</td>\n",
              "      <td>0.0</td>\n",
              "      <td>0.0</td>\n",
              "      <td>1304.00</td>\n",
              "      <td>862213.0</td>\n",
              "    </tr>\n",
              "    <tr>\n",
              "      <th>lineOfCredit</th>\n",
              "      <td>240.0</td>\n",
              "      <td>10503.679167</td>\n",
              "      <td>33307.642491</td>\n",
              "      <td>0.0</td>\n",
              "      <td>0.0</td>\n",
              "      <td>351.0</td>\n",
              "      <td>3477.75</td>\n",
              "      <td>265807.0</td>\n",
              "    </tr>\n",
              "    <tr>\n",
              "      <th>mortgage</th>\n",
              "      <td>857.0</td>\n",
              "      <td>70177.359393</td>\n",
              "      <td>142143.007014</td>\n",
              "      <td>0.0</td>\n",
              "      <td>0.0</td>\n",
              "      <td>0.0</td>\n",
              "      <td>97155.00</td>\n",
              "      <td>1917688.0</td>\n",
              "    </tr>\n",
              "    <tr>\n",
              "      <th>open</th>\n",
              "      <td>281.0</td>\n",
              "      <td>2706.334520</td>\n",
              "      <td>9228.070042</td>\n",
              "      <td>0.0</td>\n",
              "      <td>0.0</td>\n",
              "      <td>0.0</td>\n",
              "      <td>1166.00</td>\n",
              "      <td>82774.0</td>\n",
              "    </tr>\n",
              "    <tr>\n",
              "      <th>revolving</th>\n",
              "      <td>12480.0</td>\n",
              "      <td>1251.213462</td>\n",
              "      <td>3157.339815</td>\n",
              "      <td>0.0</td>\n",
              "      <td>0.0</td>\n",
              "      <td>94.5</td>\n",
              "      <td>1180.00</td>\n",
              "      <td>134000.0</td>\n",
              "    </tr>\n",
              "  </tbody>\n",
              "</table>\n",
              "</div>"
            ],
            "text/plain": [
              "              currentBalance                ...                     \n",
              "                       count          mean  ...       75%        max\n",
              "portfolioType                               ...                     \n",
              "installment          10843.0   3595.474961  ...   1304.00   862213.0\n",
              "lineOfCredit           240.0  10503.679167  ...   3477.75   265807.0\n",
              "mortgage               857.0  70177.359393  ...  97155.00  1917688.0\n",
              "open                   281.0   2706.334520  ...   1166.00    82774.0\n",
              "revolving            12480.0   1251.213462  ...   1180.00   134000.0\n",
              "\n",
              "[5 rows x 8 columns]"
            ]
          },
          "metadata": {},
          "execution_count": 54
        }
      ]
    },
    {
      "cell_type": "code",
      "metadata": {
        "colab": {
          "base_uri": "https://localhost:8080/",
          "height": 204
        },
        "id": "-sWhk2uV2WvW",
        "outputId": "5ada852c-6ab9-49e7-9064-5a22697d5eed"
      },
      "source": [
        "account_data = data[['id', 'portfolioType', 'dateOpened']].copy()\n",
        "account_data = account_data[account_data['dateOpened'].notnull()]\n",
        "account_data.head(5)"
      ],
      "execution_count": null,
      "outputs": [
        {
          "output_type": "execute_result",
          "data": {
            "text/html": [
              "<div>\n",
              "<style scoped>\n",
              "    .dataframe tbody tr th:only-of-type {\n",
              "        vertical-align: middle;\n",
              "    }\n",
              "\n",
              "    .dataframe tbody tr th {\n",
              "        vertical-align: top;\n",
              "    }\n",
              "\n",
              "    .dataframe thead th {\n",
              "        text-align: right;\n",
              "    }\n",
              "</style>\n",
              "<table border=\"1\" class=\"dataframe\">\n",
              "  <thead>\n",
              "    <tr style=\"text-align: right;\">\n",
              "      <th></th>\n",
              "      <th>id</th>\n",
              "      <th>portfolioType</th>\n",
              "      <th>dateOpened</th>\n",
              "    </tr>\n",
              "  </thead>\n",
              "  <tbody>\n",
              "    <tr>\n",
              "      <th>0</th>\n",
              "      <td>1</td>\n",
              "      <td>revolving</td>\n",
              "      <td>2019-07-17</td>\n",
              "    </tr>\n",
              "    <tr>\n",
              "      <th>1</th>\n",
              "      <td>2</td>\n",
              "      <td>installment</td>\n",
              "      <td>2015-04-18</td>\n",
              "    </tr>\n",
              "    <tr>\n",
              "      <th>2</th>\n",
              "      <td>3</td>\n",
              "      <td>installment</td>\n",
              "      <td>2019-05-09</td>\n",
              "    </tr>\n",
              "    <tr>\n",
              "      <th>3</th>\n",
              "      <td>4</td>\n",
              "      <td>installment</td>\n",
              "      <td>2014-06-21</td>\n",
              "    </tr>\n",
              "    <tr>\n",
              "      <th>4</th>\n",
              "      <td>5</td>\n",
              "      <td>installment</td>\n",
              "      <td>2015-11-06</td>\n",
              "    </tr>\n",
              "  </tbody>\n",
              "</table>\n",
              "</div>"
            ],
            "text/plain": [
              "   id portfolioType dateOpened\n",
              "0   1     revolving 2019-07-17\n",
              "1   2   installment 2015-04-18\n",
              "2   3   installment 2019-05-09\n",
              "3   4   installment 2014-06-21\n",
              "4   5   installment 2015-11-06"
            ]
          },
          "metadata": {},
          "execution_count": 8
        }
      ]
    },
    {
      "cell_type": "code",
      "metadata": {
        "id": "1mOieWun4WMA"
      },
      "source": [
        "def convert_date_to_season(date):\n",
        "  return f'{date.year} Q{(date.month + 2) // 3}'"
      ],
      "execution_count": null,
      "outputs": []
    },
    {
      "cell_type": "code",
      "metadata": {
        "colab": {
          "base_uri": "https://localhost:8080/",
          "height": 204
        },
        "id": "KvfV7NEU4gnm",
        "outputId": "e69a7f37-d325-451c-9daa-1e41b8ebe4a3"
      },
      "source": [
        "account_data['seasonOpened'] = account_data['dateOpened'].apply(convert_date_to_season)\n",
        "account_data.head(5)"
      ],
      "execution_count": null,
      "outputs": [
        {
          "output_type": "execute_result",
          "data": {
            "text/html": [
              "<div>\n",
              "<style scoped>\n",
              "    .dataframe tbody tr th:only-of-type {\n",
              "        vertical-align: middle;\n",
              "    }\n",
              "\n",
              "    .dataframe tbody tr th {\n",
              "        vertical-align: top;\n",
              "    }\n",
              "\n",
              "    .dataframe thead th {\n",
              "        text-align: right;\n",
              "    }\n",
              "</style>\n",
              "<table border=\"1\" class=\"dataframe\">\n",
              "  <thead>\n",
              "    <tr style=\"text-align: right;\">\n",
              "      <th></th>\n",
              "      <th>id</th>\n",
              "      <th>portfolioType</th>\n",
              "      <th>dateOpened</th>\n",
              "      <th>seasonOpened</th>\n",
              "    </tr>\n",
              "  </thead>\n",
              "  <tbody>\n",
              "    <tr>\n",
              "      <th>0</th>\n",
              "      <td>1</td>\n",
              "      <td>revolving</td>\n",
              "      <td>2019-07-17</td>\n",
              "      <td>2019 Q3</td>\n",
              "    </tr>\n",
              "    <tr>\n",
              "      <th>1</th>\n",
              "      <td>2</td>\n",
              "      <td>installment</td>\n",
              "      <td>2015-04-18</td>\n",
              "      <td>2015 Q2</td>\n",
              "    </tr>\n",
              "    <tr>\n",
              "      <th>2</th>\n",
              "      <td>3</td>\n",
              "      <td>installment</td>\n",
              "      <td>2019-05-09</td>\n",
              "      <td>2019 Q2</td>\n",
              "    </tr>\n",
              "    <tr>\n",
              "      <th>3</th>\n",
              "      <td>4</td>\n",
              "      <td>installment</td>\n",
              "      <td>2014-06-21</td>\n",
              "      <td>2014 Q2</td>\n",
              "    </tr>\n",
              "    <tr>\n",
              "      <th>4</th>\n",
              "      <td>5</td>\n",
              "      <td>installment</td>\n",
              "      <td>2015-11-06</td>\n",
              "      <td>2015 Q4</td>\n",
              "    </tr>\n",
              "  </tbody>\n",
              "</table>\n",
              "</div>"
            ],
            "text/plain": [
              "   id portfolioType dateOpened seasonOpened\n",
              "0   1     revolving 2019-07-17      2019 Q3\n",
              "1   2   installment 2015-04-18      2015 Q2\n",
              "2   3   installment 2019-05-09      2019 Q2\n",
              "3   4   installment 2014-06-21      2014 Q2\n",
              "4   5   installment 2015-11-06      2015 Q4"
            ]
          },
          "metadata": {},
          "execution_count": 9
        }
      ]
    },
    {
      "cell_type": "code",
      "metadata": {
        "colab": {
          "base_uri": "https://localhost:8080/",
          "height": 204
        },
        "id": "MXpr_QWv4kIg",
        "outputId": "87834f65-2bf6-43d7-8719-11bad4cb3b28"
      },
      "source": [
        "account_opened = account_data.groupby(['seasonOpened', 'portfolioType'])[['id']].count()\n",
        "account_opened = account_opened.reset_index()\n",
        "account_opened.columns = ['seasonOpened', 'portfolioType', 'numOfAccounts']\n",
        "account_opened.head(5)"
      ],
      "execution_count": null,
      "outputs": [
        {
          "output_type": "execute_result",
          "data": {
            "text/html": [
              "<div>\n",
              "<style scoped>\n",
              "    .dataframe tbody tr th:only-of-type {\n",
              "        vertical-align: middle;\n",
              "    }\n",
              "\n",
              "    .dataframe tbody tr th {\n",
              "        vertical-align: top;\n",
              "    }\n",
              "\n",
              "    .dataframe thead th {\n",
              "        text-align: right;\n",
              "    }\n",
              "</style>\n",
              "<table border=\"1\" class=\"dataframe\">\n",
              "  <thead>\n",
              "    <tr style=\"text-align: right;\">\n",
              "      <th></th>\n",
              "      <th>seasonOpened</th>\n",
              "      <th>portfolioType</th>\n",
              "      <th>numOfAccounts</th>\n",
              "    </tr>\n",
              "  </thead>\n",
              "  <tbody>\n",
              "    <tr>\n",
              "      <th>0</th>\n",
              "      <td>1964 Q4</td>\n",
              "      <td>revolving</td>\n",
              "      <td>1</td>\n",
              "    </tr>\n",
              "    <tr>\n",
              "      <th>1</th>\n",
              "      <td>1965 Q2</td>\n",
              "      <td>revolving</td>\n",
              "      <td>2</td>\n",
              "    </tr>\n",
              "    <tr>\n",
              "      <th>2</th>\n",
              "      <td>1965 Q4</td>\n",
              "      <td>revolving</td>\n",
              "      <td>1</td>\n",
              "    </tr>\n",
              "    <tr>\n",
              "      <th>3</th>\n",
              "      <td>1973 Q1</td>\n",
              "      <td>revolving</td>\n",
              "      <td>1</td>\n",
              "    </tr>\n",
              "    <tr>\n",
              "      <th>4</th>\n",
              "      <td>1974 Q3</td>\n",
              "      <td>open</td>\n",
              "      <td>1</td>\n",
              "    </tr>\n",
              "  </tbody>\n",
              "</table>\n",
              "</div>"
            ],
            "text/plain": [
              "  seasonOpened portfolioType  numOfAccounts\n",
              "0      1964 Q4     revolving              1\n",
              "1      1965 Q2     revolving              2\n",
              "2      1965 Q4     revolving              1\n",
              "3      1973 Q1     revolving              1\n",
              "4      1974 Q3          open              1"
            ]
          },
          "metadata": {},
          "execution_count": 11
        }
      ]
    },
    {
      "cell_type": "code",
      "metadata": {
        "id": "GnTBTsPy4qr8"
      },
      "source": [
        "def find_data_after_2010(season):\n",
        "  return int(season.split()[0]) >= 2010"
      ],
      "execution_count": 35,
      "outputs": []
    },
    {
      "cell_type": "code",
      "metadata": {
        "id": "QIWr53ni7pq7"
      },
      "source": [
        "account_opened_after_2010 = account_opened[account_opened['seasonOpened'].apply(find_data_after_2010)]"
      ],
      "execution_count": 36,
      "outputs": []
    },
    {
      "cell_type": "code",
      "metadata": {
        "colab": {
          "base_uri": "https://localhost:8080/",
          "height": 319
        },
        "id": "RYagkC4s46Y2",
        "outputId": "f1d6723e-64fc-4f7a-909c-daa773827b68"
      },
      "source": [
        "plt.figure(figsize=(20,5))\n",
        "plt.grid(axis='y', alpha=0.75)\n",
        "sns.lineplot(x='seasonOpened', y='numOfAccounts', hue='portfolioType', data=account_opened_after_2010)\n",
        "plt.tick_params(axis='x', rotation=30)\n",
        "plt.xticks(fontsize=8)\n",
        "plt.xlabel('opened date')\n",
        "plt.ylabel('number of accounts opened')\n",
        "plt.title('Number of accounts opened from 2010 to 2019')\n",
        "plt.show()\n"
      ],
      "execution_count": 37,
      "outputs": [
        {
          "output_type": "display_data",
          "data": {
            "image/png": "[encoded data removed]",
            "text/plain": [
              "<Figure size 1440x360 with 1 Axes>"
            ]
          },
          "metadata": {
            "needs_background": "light"
          }
        }
      ]
    },
    {
      "cell_type": "code",
      "metadata": {
        "colab": {
          "base_uri": "https://localhost:8080/",
          "height": 321
        },
        "id": "RvTjVhBuBaou",
        "outputId": "d41817fa-a90e-481a-e142-60c759cf4688"
      },
      "source": [
        "account_opened_after_2010 = account_opened_after_2010[(account_opened_after_2010['portfolioType'] == 'mortgage') | (account_opened_after_2010['portfolioType'] == 'open') | (account_opened_after_2010['portfolioType'] == 'lineOfCredit')]\n",
        "\n",
        "plt.figure(figsize=(20,5))\n",
        "plt.grid(axis='y', alpha=0.75)\n",
        "sns.lineplot(x='seasonOpened', y='numOfAccounts', hue='portfolioType', data=account_opened_after_2010)\n",
        "plt.tick_params(axis='x', rotation=30)\n",
        "plt.xticks(fontsize=8)\n",
        "plt.xlabel('opened date')\n",
        "plt.ylabel('number of accounts opened')\n",
        "plt.title('Number of accounts opened from 2010 to 2019')\n",
        "\n",
        "plt.show()"
      ],
      "execution_count": null,
      "outputs": [
        {
          "output_type": "display_data",
          "data": {
            "image/png": "[encoded data removed]",
            "text/plain": [
              "<Figure size 1440x360 with 1 Axes>"
            ]
          },
          "metadata": {
            "needs_background": "light"
          }
        }
      ]
    },
    {
      "cell_type": "code",
      "metadata": {
        "colab": {
          "base_uri": "https://localhost:8080/",
          "height": 204
        },
        "id": "ijkDgCHkILuI",
        "outputId": "fc718185-d4b3-49cd-b4d6-9299db1a74a9"
      },
      "source": [
        "user_data = data[['user_id', 'portfolioType', 'dateOpened']].copy()\n",
        "user_data = user_data[user_data['dateOpened'].notnull()]\n",
        "user_data.head(5)"
      ],
      "execution_count": 56,
      "outputs": [
        {
          "output_type": "execute_result",
          "data": {
            "text/html": [
              "<div>\n",
              "<style scoped>\n",
              "    .dataframe tbody tr th:only-of-type {\n",
              "        vertical-align: middle;\n",
              "    }\n",
              "\n",
              "    .dataframe tbody tr th {\n",
              "        vertical-align: top;\n",
              "    }\n",
              "\n",
              "    .dataframe thead th {\n",
              "        text-align: right;\n",
              "    }\n",
              "</style>\n",
              "<table border=\"1\" class=\"dataframe\">\n",
              "  <thead>\n",
              "    <tr style=\"text-align: right;\">\n",
              "      <th></th>\n",
              "      <th>user_id</th>\n",
              "      <th>portfolioType</th>\n",
              "      <th>dateOpened</th>\n",
              "    </tr>\n",
              "  </thead>\n",
              "  <tbody>\n",
              "    <tr>\n",
              "      <th>0</th>\n",
              "      <td>5dbb7b29f50df923e06c9970</td>\n",
              "      <td>revolving</td>\n",
              "      <td>2019-07-17</td>\n",
              "    </tr>\n",
              "    <tr>\n",
              "      <th>1</th>\n",
              "      <td>5dbb7b29f50df923e06c9970</td>\n",
              "      <td>installment</td>\n",
              "      <td>2015-04-18</td>\n",
              "    </tr>\n",
              "    <tr>\n",
              "      <th>2</th>\n",
              "      <td>5dbb7b29f50df923e06c9970</td>\n",
              "      <td>installment</td>\n",
              "      <td>2019-05-09</td>\n",
              "    </tr>\n",
              "    <tr>\n",
              "      <th>3</th>\n",
              "      <td>5dbb7b29f50df923e06c9970</td>\n",
              "      <td>installment</td>\n",
              "      <td>2014-06-21</td>\n",
              "    </tr>\n",
              "    <tr>\n",
              "      <th>4</th>\n",
              "      <td>5dbb7b29f50df923e06c9970</td>\n",
              "      <td>installment</td>\n",
              "      <td>2015-11-06</td>\n",
              "    </tr>\n",
              "  </tbody>\n",
              "</table>\n",
              "</div>"
            ],
            "text/plain": [
              "                    user_id portfolioType dateOpened\n",
              "0  5dbb7b29f50df923e06c9970     revolving 2019-07-17\n",
              "1  5dbb7b29f50df923e06c9970   installment 2015-04-18\n",
              "2  5dbb7b29f50df923e06c9970   installment 2019-05-09\n",
              "3  5dbb7b29f50df923e06c9970   installment 2014-06-21\n",
              "4  5dbb7b29f50df923e06c9970   installment 2015-11-06"
            ]
          },
          "metadata": {},
          "execution_count": 56
        }
      ]
    },
    {
      "cell_type": "code",
      "metadata": {
        "id": "oHyw3DIoJMbX"
      },
      "source": [
        "def convert_date_to_year(date):\n",
        "  return f'{date.year}'"
      ],
      "execution_count": 57,
      "outputs": []
    },
    {
      "cell_type": "code",
      "metadata": {
        "colab": {
          "base_uri": "https://localhost:8080/",
          "height": 204
        },
        "id": "NB_lQmaPJkzQ",
        "outputId": "04e8776a-9bfc-4593-d5c4-2d4e5c48b4f6"
      },
      "source": [
        "user_data['yearOpened'] = user_data['dateOpened'].apply(convert_date_to_year)\n",
        "user_data.head(5)"
      ],
      "execution_count": 58,
      "outputs": [
        {
          "output_type": "execute_result",
          "data": {
            "text/html": [
              "<div>\n",
              "<style scoped>\n",
              "    .dataframe tbody tr th:only-of-type {\n",
              "        vertical-align: middle;\n",
              "    }\n",
              "\n",
              "    .dataframe tbody tr th {\n",
              "        vertical-align: top;\n",
              "    }\n",
              "\n",
              "    .dataframe thead th {\n",
              "        text-align: right;\n",
              "    }\n",
              "</style>\n",
              "<table border=\"1\" class=\"dataframe\">\n",
              "  <thead>\n",
              "    <tr style=\"text-align: right;\">\n",
              "      <th></th>\n",
              "      <th>user_id</th>\n",
              "      <th>portfolioType</th>\n",
              "      <th>dateOpened</th>\n",
              "      <th>yearOpened</th>\n",
              "    </tr>\n",
              "  </thead>\n",
              "  <tbody>\n",
              "    <tr>\n",
              "      <th>0</th>\n",
              "      <td>5dbb7b29f50df923e06c9970</td>\n",
              "      <td>revolving</td>\n",
              "      <td>2019-07-17</td>\n",
              "      <td>2019</td>\n",
              "    </tr>\n",
              "    <tr>\n",
              "      <th>1</th>\n",
              "      <td>5dbb7b29f50df923e06c9970</td>\n",
              "      <td>installment</td>\n",
              "      <td>2015-04-18</td>\n",
              "      <td>2015</td>\n",
              "    </tr>\n",
              "    <tr>\n",
              "      <th>2</th>\n",
              "      <td>5dbb7b29f50df923e06c9970</td>\n",
              "      <td>installment</td>\n",
              "      <td>2019-05-09</td>\n",
              "      <td>2019</td>\n",
              "    </tr>\n",
              "    <tr>\n",
              "      <th>3</th>\n",
              "      <td>5dbb7b29f50df923e06c9970</td>\n",
              "      <td>installment</td>\n",
              "      <td>2014-06-21</td>\n",
              "      <td>2014</td>\n",
              "    </tr>\n",
              "    <tr>\n",
              "      <th>4</th>\n",
              "      <td>5dbb7b29f50df923e06c9970</td>\n",
              "      <td>installment</td>\n",
              "      <td>2015-11-06</td>\n",
              "      <td>2015</td>\n",
              "    </tr>\n",
              "  </tbody>\n",
              "</table>\n",
              "</div>"
            ],
            "text/plain": [
              "                    user_id portfolioType dateOpened yearOpened\n",
              "0  5dbb7b29f50df923e06c9970     revolving 2019-07-17       2019\n",
              "1  5dbb7b29f50df923e06c9970   installment 2015-04-18       2015\n",
              "2  5dbb7b29f50df923e06c9970   installment 2019-05-09       2019\n",
              "3  5dbb7b29f50df923e06c9970   installment 2014-06-21       2014\n",
              "4  5dbb7b29f50df923e06c9970   installment 2015-11-06       2015"
            ]
          },
          "metadata": {},
          "execution_count": 58
        }
      ]
    },
    {
      "cell_type": "code",
      "metadata": {
        "id": "ggC7e63dJOdt"
      },
      "source": [
        "new_user = user_data.groupby(['user_id'])[['yearOpened']].min()\n",
        "new_user = new_user.reset_index()"
      ],
      "execution_count": 59,
      "outputs": []
    },
    {
      "cell_type": "code",
      "metadata": {
        "id": "CEMdpQa3JaVu"
      },
      "source": [
        "new_user_opened = new_user.groupby(['yearOpened'])[['user_id']].count()\n",
        "new_user_opened = new_user_opened.reset_index()"
      ],
      "execution_count": 60,
      "outputs": []
    },
    {
      "cell_type": "code",
      "metadata": {
        "colab": {
          "base_uri": "https://localhost:8080/",
          "height": 315
        },
        "id": "P9X6LIL5JgWV",
        "outputId": "b9e0ca0c-fb9e-46b7-9077-bec214f12f54"
      },
      "source": [
        "plt.figure(figsize=(20,5))\n",
        "plt.grid(axis='y', alpha=0.75)\n",
        "sns.lineplot(x=new_user_opened['yearOpened'], y=new_user_opened['user_id'], data=new_user_opened)\n",
        "plt.tick_params(axis='x', rotation=30)\n",
        "plt.xticks(fontsize=8)\n",
        "plt.xlabel('year')\n",
        "plt.ylabel('number of new users')\n",
        "plt.title('Number of new users from 1964 to 2019')\n",
        "\n",
        "plt.show()"
      ],
      "execution_count": 62,
      "outputs": [
        {
          "output_type": "display_data",
          "data": {
            "image/png": "[encoded data removed]",
            "text/plain": [
              "<Figure size 1440x360 with 1 Axes>"
            ]
          },
          "metadata": {
            "needs_background": "light"
          }
        }
      ]
    },
    {
      "cell_type": "code",
      "metadata": {
        "id": "r11kU2SJJgfW"
      },
      "source": [
        "revolving_data = data[data['portfolioType'] == 'revolving']"
      ],
      "execution_count": 63,
      "outputs": []
    },
    {
      "cell_type": "code",
      "metadata": {
        "colab": {
          "base_uri": "https://localhost:8080/",
          "height": 309
        },
        "id": "ZYNobPpcN0la",
        "outputId": "db2606e4-a9ec-46d2-b4f1-50cb646e8ea9"
      },
      "source": [
        "condition_1 = revolving_data['creditLimit'].notnull()\n",
        "condition_2 = revolving_data['currentBalance'].notnull()\n",
        "condition_3 = revolving_data['dateClosed'].isnull()\n",
        "\n",
        "revolving_data = revolving_data[condition_1 & condition_2 & condition_3]\n",
        "revolving_data.head(5)"
      ],
      "execution_count": 65,
      "outputs": [
        {
          "output_type": "execute_result",
          "data": {
            "text/html": [
              "<div>\n",
              "<style scoped>\n",
              "    .dataframe tbody tr th:only-of-type {\n",
              "        vertical-align: middle;\n",
              "    }\n",
              "\n",
              "    .dataframe tbody tr th {\n",
              "        vertical-align: top;\n",
              "    }\n",
              "\n",
              "    .dataframe thead th {\n",
              "        text-align: right;\n",
              "    }\n",
              "</style>\n",
              "<table border=\"1\" class=\"dataframe\">\n",
              "  <thead>\n",
              "    <tr style=\"text-align: right;\">\n",
              "      <th></th>\n",
              "      <th>id</th>\n",
              "      <th>credit_report_id</th>\n",
              "      <th>tradeline_index</th>\n",
              "      <th>user_id</th>\n",
              "      <th>portfolioType</th>\n",
              "      <th>creditLimit</th>\n",
              "      <th>highCredit</th>\n",
              "      <th>currentBalance</th>\n",
              "      <th>terms_in_month</th>\n",
              "      <th>scheduledMonthlyPayment</th>\n",
              "      <th>dateOpened</th>\n",
              "      <th>dateReported</th>\n",
              "      <th>dateClosed</th>\n",
              "      <th>mostRecentPayment_date</th>\n",
              "      <th>dataPulled</th>\n",
              "    </tr>\n",
              "  </thead>\n",
              "  <tbody>\n",
              "    <tr>\n",
              "      <th>0</th>\n",
              "      <td>1</td>\n",
              "      <td>5dbb7b2af50df923e06c9973</td>\n",
              "      <td>0</td>\n",
              "      <td>5dbb7b29f50df923e06c9970</td>\n",
              "      <td>revolving</td>\n",
              "      <td>400.0</td>\n",
              "      <td>257.0</td>\n",
              "      <td>150.0</td>\n",
              "      <td>MIN</td>\n",
              "      <td>8.0</td>\n",
              "      <td>2019-07-17</td>\n",
              "      <td>2019-10-12</td>\n",
              "      <td>NaT</td>\n",
              "      <td>2019-09-03</td>\n",
              "      <td>2019-11-01 00:24:10.245</td>\n",
              "    </tr>\n",
              "    <tr>\n",
              "      <th>32</th>\n",
              "      <td>33</td>\n",
              "      <td>5dbb7eb7f50df923e06c997a</td>\n",
              "      <td>0</td>\n",
              "      <td>5dbb7eb6f50df923e06c9977</td>\n",
              "      <td>revolving</td>\n",
              "      <td>4020.0</td>\n",
              "      <td>2416.0</td>\n",
              "      <td>2002.0</td>\n",
              "      <td>MIN</td>\n",
              "      <td>92.0</td>\n",
              "      <td>2013-05-16</td>\n",
              "      <td>2019-10-25</td>\n",
              "      <td>NaT</td>\n",
              "      <td>2019-10-22</td>\n",
              "      <td>2019-11-01 00:39:19.641</td>\n",
              "    </tr>\n",
              "    <tr>\n",
              "      <th>33</th>\n",
              "      <td>34</td>\n",
              "      <td>5dbb7eb7f50df923e06c997a</td>\n",
              "      <td>1</td>\n",
              "      <td>5dbb7eb6f50df923e06c9977</td>\n",
              "      <td>revolving</td>\n",
              "      <td>1800.0</td>\n",
              "      <td>1167.0</td>\n",
              "      <td>0.0</td>\n",
              "      <td>NaN</td>\n",
              "      <td>NaN</td>\n",
              "      <td>2009-05-16</td>\n",
              "      <td>2019-10-23</td>\n",
              "      <td>NaT</td>\n",
              "      <td>2015-10-05</td>\n",
              "      <td>2019-11-01 00:39:19.641</td>\n",
              "    </tr>\n",
              "    <tr>\n",
              "      <th>34</th>\n",
              "      <td>35</td>\n",
              "      <td>5dbb7eb7f50df923e06c997a</td>\n",
              "      <td>2</td>\n",
              "      <td>5dbb7eb6f50df923e06c9977</td>\n",
              "      <td>revolving</td>\n",
              "      <td>10000.0</td>\n",
              "      <td>8127.0</td>\n",
              "      <td>7013.0</td>\n",
              "      <td>NaN</td>\n",
              "      <td>NaN</td>\n",
              "      <td>2010-07-30</td>\n",
              "      <td>2019-10-23</td>\n",
              "      <td>NaT</td>\n",
              "      <td>2019-10-16</td>\n",
              "      <td>2019-11-01 00:39:19.641</td>\n",
              "    </tr>\n",
              "    <tr>\n",
              "      <th>35</th>\n",
              "      <td>36</td>\n",
              "      <td>5dbb7eb7f50df923e06c997a</td>\n",
              "      <td>3</td>\n",
              "      <td>5dbb7eb6f50df923e06c9977</td>\n",
              "      <td>revolving</td>\n",
              "      <td>1800.0</td>\n",
              "      <td>0.0</td>\n",
              "      <td>0.0</td>\n",
              "      <td>NaN</td>\n",
              "      <td>NaN</td>\n",
              "      <td>2018-08-12</td>\n",
              "      <td>2019-10-22</td>\n",
              "      <td>NaT</td>\n",
              "      <td>2018-08-12</td>\n",
              "      <td>2019-11-01 00:39:19.641</td>\n",
              "    </tr>\n",
              "  </tbody>\n",
              "</table>\n",
              "</div>"
            ],
            "text/plain": [
              "    id          credit_report_id  ...  mostRecentPayment_date              dataPulled\n",
              "0    1  5dbb7b2af50df923e06c9973  ...              2019-09-03 2019-11-01 00:24:10.245\n",
              "32  33  5dbb7eb7f50df923e06c997a  ...              2019-10-22 2019-11-01 00:39:19.641\n",
              "33  34  5dbb7eb7f50df923e06c997a  ...              2015-10-05 2019-11-01 00:39:19.641\n",
              "34  35  5dbb7eb7f50df923e06c997a  ...              2019-10-16 2019-11-01 00:39:19.641\n",
              "35  36  5dbb7eb7f50df923e06c997a  ...              2018-08-12 2019-11-01 00:39:19.641\n",
              "\n",
              "[5 rows x 15 columns]"
            ]
          },
          "metadata": {},
          "execution_count": 65
        }
      ]
    },
    {
      "cell_type": "code",
      "metadata": {
        "id": "KbyjIVR7N61s"
      },
      "source": [
        "def convert_date_to_month(date):\n",
        "  month = ''\n",
        "  if date.month < 10:\n",
        "    month = '0' + str(date.month)\n",
        "  else:\n",
        "    month = str(date.month)\n",
        "  return f'{date.year}-{month}';"
      ],
      "execution_count": 66,
      "outputs": []
    },
    {
      "cell_type": "code",
      "metadata": {
        "colab": {
          "base_uri": "https://localhost:8080/",
          "height": 204
        },
        "id": "pMFxp8_GOIOM",
        "outputId": "28367df9-0d98-4452-9fab-d50513b896f0"
      },
      "source": [
        "clean_revolving_data = revolving_data[['dateReported', 'currentBalance', 'creditLimit']].copy()\n",
        "clean_revolving_data['month'] = clean_revolving_data['dateReported'].apply(convert_date_to_month)\n",
        "clean_revolving_data['utilization'] = clean_revolving_data['currentBalance'] / clean_revolving_data['creditLimit']\n",
        "clean_revolving_data.head(5)"
      ],
      "execution_count": 69,
      "outputs": [
        {
          "output_type": "execute_result",
          "data": {
            "text/html": [
              "<div>\n",
              "<style scoped>\n",
              "    .dataframe tbody tr th:only-of-type {\n",
              "        vertical-align: middle;\n",
              "    }\n",
              "\n",
              "    .dataframe tbody tr th {\n",
              "        vertical-align: top;\n",
              "    }\n",
              "\n",
              "    .dataframe thead th {\n",
              "        text-align: right;\n",
              "    }\n",
              "</style>\n",
              "<table border=\"1\" class=\"dataframe\">\n",
              "  <thead>\n",
              "    <tr style=\"text-align: right;\">\n",
              "      <th></th>\n",
              "      <th>dateReported</th>\n",
              "      <th>currentBalance</th>\n",
              "      <th>creditLimit</th>\n",
              "      <th>month</th>\n",
              "      <th>utilization</th>\n",
              "    </tr>\n",
              "  </thead>\n",
              "  <tbody>\n",
              "    <tr>\n",
              "      <th>0</th>\n",
              "      <td>2019-10-12</td>\n",
              "      <td>150.0</td>\n",
              "      <td>400.0</td>\n",
              "      <td>2019-10</td>\n",
              "      <td>0.37500</td>\n",
              "    </tr>\n",
              "    <tr>\n",
              "      <th>32</th>\n",
              "      <td>2019-10-25</td>\n",
              "      <td>2002.0</td>\n",
              "      <td>4020.0</td>\n",
              "      <td>2019-10</td>\n",
              "      <td>0.49801</td>\n",
              "    </tr>\n",
              "    <tr>\n",
              "      <th>33</th>\n",
              "      <td>2019-10-23</td>\n",
              "      <td>0.0</td>\n",
              "      <td>1800.0</td>\n",
              "      <td>2019-10</td>\n",
              "      <td>0.00000</td>\n",
              "    </tr>\n",
              "    <tr>\n",
              "      <th>34</th>\n",
              "      <td>2019-10-23</td>\n",
              "      <td>7013.0</td>\n",
              "      <td>10000.0</td>\n",
              "      <td>2019-10</td>\n",
              "      <td>0.70130</td>\n",
              "    </tr>\n",
              "    <tr>\n",
              "      <th>35</th>\n",
              "      <td>2019-10-22</td>\n",
              "      <td>0.0</td>\n",
              "      <td>1800.0</td>\n",
              "      <td>2019-10</td>\n",
              "      <td>0.00000</td>\n",
              "    </tr>\n",
              "  </tbody>\n",
              "</table>\n",
              "</div>"
            ],
            "text/plain": [
              "   dateReported  currentBalance  creditLimit    month  utilization\n",
              "0    2019-10-12           150.0        400.0  2019-10      0.37500\n",
              "32   2019-10-25          2002.0       4020.0  2019-10      0.49801\n",
              "33   2019-10-23             0.0       1800.0  2019-10      0.00000\n",
              "34   2019-10-23          7013.0      10000.0  2019-10      0.70130\n",
              "35   2019-10-22             0.0       1800.0  2019-10      0.00000"
            ]
          },
          "metadata": {},
          "execution_count": 69
        }
      ]
    },
    {
      "cell_type": "code",
      "metadata": {
        "colab": {
          "base_uri": "https://localhost:8080/",
          "height": 419
        },
        "id": "6_-IINT8O4FF",
        "outputId": "993587c9-ab90-4f13-b7f7-35b3181f929a"
      },
      "source": [
        "revolving_utilization = clean_revolving_data.groupby(['month'])[['utilization']].mean()\n",
        "revolving_utilization = revolving_utilization.reset_index()\n",
        "revolving_utilization"
      ],
      "execution_count": 77,
      "outputs": [
        {
          "output_type": "execute_result",
          "data": {
            "text/html": [
              "<div>\n",
              "<style scoped>\n",
              "    .dataframe tbody tr th:only-of-type {\n",
              "        vertical-align: middle;\n",
              "    }\n",
              "\n",
              "    .dataframe tbody tr th {\n",
              "        vertical-align: top;\n",
              "    }\n",
              "\n",
              "    .dataframe thead th {\n",
              "        text-align: right;\n",
              "    }\n",
              "</style>\n",
              "<table border=\"1\" class=\"dataframe\">\n",
              "  <thead>\n",
              "    <tr style=\"text-align: right;\">\n",
              "      <th></th>\n",
              "      <th>month</th>\n",
              "      <th>utilization</th>\n",
              "    </tr>\n",
              "  </thead>\n",
              "  <tbody>\n",
              "    <tr>\n",
              "      <th>0</th>\n",
              "      <td>2010-04</td>\n",
              "      <td>0.000000</td>\n",
              "    </tr>\n",
              "    <tr>\n",
              "      <th>1</th>\n",
              "      <td>2010-05</td>\n",
              "      <td>0.000000</td>\n",
              "    </tr>\n",
              "    <tr>\n",
              "      <th>2</th>\n",
              "      <td>2010-10</td>\n",
              "      <td>0.000000</td>\n",
              "    </tr>\n",
              "    <tr>\n",
              "      <th>3</th>\n",
              "      <td>2010-12</td>\n",
              "      <td>0.000000</td>\n",
              "    </tr>\n",
              "    <tr>\n",
              "      <th>4</th>\n",
              "      <td>2011-04</td>\n",
              "      <td>0.000000</td>\n",
              "    </tr>\n",
              "    <tr>\n",
              "      <th>...</th>\n",
              "      <td>...</td>\n",
              "      <td>...</td>\n",
              "    </tr>\n",
              "    <tr>\n",
              "      <th>70</th>\n",
              "      <td>2019-07</td>\n",
              "      <td>0.000000</td>\n",
              "    </tr>\n",
              "    <tr>\n",
              "      <th>71</th>\n",
              "      <td>2019-08</td>\n",
              "      <td>0.498050</td>\n",
              "    </tr>\n",
              "    <tr>\n",
              "      <th>72</th>\n",
              "      <td>2019-09</td>\n",
              "      <td>0.528242</td>\n",
              "    </tr>\n",
              "    <tr>\n",
              "      <th>73</th>\n",
              "      <td>2019-10</td>\n",
              "      <td>0.616804</td>\n",
              "    </tr>\n",
              "    <tr>\n",
              "      <th>74</th>\n",
              "      <td>2019-11</td>\n",
              "      <td>0.627424</td>\n",
              "    </tr>\n",
              "  </tbody>\n",
              "</table>\n",
              "<p>75 rows × 2 columns</p>\n",
              "</div>"
            ],
            "text/plain": [
              "      month  utilization\n",
              "0   2010-04     0.000000\n",
              "1   2010-05     0.000000\n",
              "2   2010-10     0.000000\n",
              "3   2010-12     0.000000\n",
              "4   2011-04     0.000000\n",
              "..      ...          ...\n",
              "70  2019-07     0.000000\n",
              "71  2019-08     0.498050\n",
              "72  2019-09     0.528242\n",
              "73  2019-10     0.616804\n",
              "74  2019-11     0.627424\n",
              "\n",
              "[75 rows x 2 columns]"
            ]
          },
          "metadata": {},
          "execution_count": 77
        }
      ]
    },
    {
      "cell_type": "code",
      "metadata": {
        "id": "kmVKubJqOU1z"
      },
      "source": [
        "def find_data_after_2019(date):\n",
        "  return int(date.split('-')[0]) >= 2019"
      ],
      "execution_count": 84,
      "outputs": []
    },
    {
      "cell_type": "code",
      "metadata": {
        "colab": {
          "base_uri": "https://localhost:8080/",
          "height": 390
        },
        "id": "cpnM2nb_U0sP",
        "outputId": "e92096cd-f3b2-4314-bce9-179f1ff30dfc"
      },
      "source": [
        "revolving_utilization_2019 = revolving_utilization[revolving_utilization['month'].apply(find_data_after_2019)]\n",
        "revolving_utilization_2019"
      ],
      "execution_count": 85,
      "outputs": [
        {
          "output_type": "execute_result",
          "data": {
            "text/html": [
              "<div>\n",
              "<style scoped>\n",
              "    .dataframe tbody tr th:only-of-type {\n",
              "        vertical-align: middle;\n",
              "    }\n",
              "\n",
              "    .dataframe tbody tr th {\n",
              "        vertical-align: top;\n",
              "    }\n",
              "\n",
              "    .dataframe thead th {\n",
              "        text-align: right;\n",
              "    }\n",
              "</style>\n",
              "<table border=\"1\" class=\"dataframe\">\n",
              "  <thead>\n",
              "    <tr style=\"text-align: right;\">\n",
              "      <th></th>\n",
              "      <th>month</th>\n",
              "      <th>utilization</th>\n",
              "    </tr>\n",
              "  </thead>\n",
              "  <tbody>\n",
              "    <tr>\n",
              "      <th>64</th>\n",
              "      <td>2019-01</td>\n",
              "      <td>0.224659</td>\n",
              "    </tr>\n",
              "    <tr>\n",
              "      <th>65</th>\n",
              "      <td>2019-02</td>\n",
              "      <td>0.000000</td>\n",
              "    </tr>\n",
              "    <tr>\n",
              "      <th>66</th>\n",
              "      <td>2019-03</td>\n",
              "      <td>0.000000</td>\n",
              "    </tr>\n",
              "    <tr>\n",
              "      <th>67</th>\n",
              "      <td>2019-04</td>\n",
              "      <td>0.000000</td>\n",
              "    </tr>\n",
              "    <tr>\n",
              "      <th>68</th>\n",
              "      <td>2019-05</td>\n",
              "      <td>0.000000</td>\n",
              "    </tr>\n",
              "    <tr>\n",
              "      <th>69</th>\n",
              "      <td>2019-06</td>\n",
              "      <td>0.073333</td>\n",
              "    </tr>\n",
              "    <tr>\n",
              "      <th>70</th>\n",
              "      <td>2019-07</td>\n",
              "      <td>0.000000</td>\n",
              "    </tr>\n",
              "    <tr>\n",
              "      <th>71</th>\n",
              "      <td>2019-08</td>\n",
              "      <td>0.498050</td>\n",
              "    </tr>\n",
              "    <tr>\n",
              "      <th>72</th>\n",
              "      <td>2019-09</td>\n",
              "      <td>0.528242</td>\n",
              "    </tr>\n",
              "    <tr>\n",
              "      <th>73</th>\n",
              "      <td>2019-10</td>\n",
              "      <td>0.616804</td>\n",
              "    </tr>\n",
              "    <tr>\n",
              "      <th>74</th>\n",
              "      <td>2019-11</td>\n",
              "      <td>0.627424</td>\n",
              "    </tr>\n",
              "  </tbody>\n",
              "</table>\n",
              "</div>"
            ],
            "text/plain": [
              "      month  utilization\n",
              "64  2019-01     0.224659\n",
              "65  2019-02     0.000000\n",
              "66  2019-03     0.000000\n",
              "67  2019-04     0.000000\n",
              "68  2019-05     0.000000\n",
              "69  2019-06     0.073333\n",
              "70  2019-07     0.000000\n",
              "71  2019-08     0.498050\n",
              "72  2019-09     0.528242\n",
              "73  2019-10     0.616804\n",
              "74  2019-11     0.627424"
            ]
          },
          "metadata": {},
          "execution_count": 85
        }
      ]
    },
    {
      "cell_type": "code",
      "metadata": {
        "colab": {
          "base_uri": "https://localhost:8080/",
          "height": 364
        },
        "id": "BCgfN-kKVYtn",
        "outputId": "0b30cd07-e1e2-456a-c885-611f08f76d7d"
      },
      "source": [
        "plt.figure(figsize=(8,5))\n",
        "plt.grid(axis='y', alpha=0.75)\n",
        "sns.lineplot(data=revolving_utilization_2019, x='month', y='utilization')\n",
        "plt.tick_params(axis='x', rotation=30)\n",
        "plt.xticks(fontsize=8)\n",
        "plt.xlabel('reported month')\n",
        "plt.ylabel('utilization rate')\n",
        "plt.title('Utilization rate of revolving tradeline in 2019')\n",
        "plt.show()"
      ],
      "execution_count": 92,
      "outputs": [
        {
          "output_type": "display_data",
          "data": {
            "image/png": "[encoded data removed]",
            "text/plain": [
              "<Figure size 576x360 with 1 Axes>"
            ]
          },
          "metadata": {
            "needs_background": "light"
          }
        }
      ]
    },
    {
      "cell_type": "code",
      "metadata": {
        "colab": {
          "base_uri": "https://localhost:8080/",
          "height": 309
        },
        "id": "aODm0c-5jUDA",
        "outputId": "3727ca1b-32be-4899-cecc-af27c605bb13"
      },
      "source": [
        "time_limit = timedelta(days=365)\n",
        "mask_1 = revolving_data['currentBalance'] == 0\n",
        "mask_2 = revolving_data['dateReported'] - revolving_data['mostRecentPayment_date'] > time_limit\n",
        "\n",
        "inactive_accounts = revolving_data[mask_1 & mask_2]\n",
        "inactive_accounts.head(5)"
      ],
      "execution_count": 95,
      "outputs": [
        {
          "output_type": "execute_result",
          "data": {
            "text/html": [
              "<div>\n",
              "<style scoped>\n",
              "    .dataframe tbody tr th:only-of-type {\n",
              "        vertical-align: middle;\n",
              "    }\n",
              "\n",
              "    .dataframe tbody tr th {\n",
              "        vertical-align: top;\n",
              "    }\n",
              "\n",
              "    .dataframe thead th {\n",
              "        text-align: right;\n",
              "    }\n",
              "</style>\n",
              "<table border=\"1\" class=\"dataframe\">\n",
              "  <thead>\n",
              "    <tr style=\"text-align: right;\">\n",
              "      <th></th>\n",
              "      <th>id</th>\n",
              "      <th>credit_report_id</th>\n",
              "      <th>tradeline_index</th>\n",
              "      <th>user_id</th>\n",
              "      <th>portfolioType</th>\n",
              "      <th>creditLimit</th>\n",
              "      <th>highCredit</th>\n",
              "      <th>currentBalance</th>\n",
              "      <th>terms_in_month</th>\n",
              "      <th>scheduledMonthlyPayment</th>\n",
              "      <th>dateOpened</th>\n",
              "      <th>dateReported</th>\n",
              "      <th>dateClosed</th>\n",
              "      <th>mostRecentPayment_date</th>\n",
              "      <th>dataPulled</th>\n",
              "      <th>month</th>\n",
              "      <th>utilization</th>\n",
              "    </tr>\n",
              "  </thead>\n",
              "  <tbody>\n",
              "    <tr>\n",
              "      <th>33</th>\n",
              "      <td>34</td>\n",
              "      <td>5dbb7eb7f50df923e06c997a</td>\n",
              "      <td>1</td>\n",
              "      <td>5dbb7eb6f50df923e06c9977</td>\n",
              "      <td>revolving</td>\n",
              "      <td>1800.0</td>\n",
              "      <td>1167.0</td>\n",
              "      <td>0.0</td>\n",
              "      <td>NaN</td>\n",
              "      <td>NaN</td>\n",
              "      <td>2009-05-16</td>\n",
              "      <td>2019-10-23</td>\n",
              "      <td>NaT</td>\n",
              "      <td>2015-10-05</td>\n",
              "      <td>2019-11-01 00:39:19.641</td>\n",
              "      <td>2019-10</td>\n",
              "      <td>0.0</td>\n",
              "    </tr>\n",
              "    <tr>\n",
              "      <th>35</th>\n",
              "      <td>36</td>\n",
              "      <td>5dbb7eb7f50df923e06c997a</td>\n",
              "      <td>3</td>\n",
              "      <td>5dbb7eb6f50df923e06c9977</td>\n",
              "      <td>revolving</td>\n",
              "      <td>1800.0</td>\n",
              "      <td>0.0</td>\n",
              "      <td>0.0</td>\n",
              "      <td>NaN</td>\n",
              "      <td>NaN</td>\n",
              "      <td>2018-08-12</td>\n",
              "      <td>2019-10-22</td>\n",
              "      <td>NaT</td>\n",
              "      <td>2018-08-12</td>\n",
              "      <td>2019-11-01 00:39:19.641</td>\n",
              "      <td>2019-10</td>\n",
              "      <td>0.0</td>\n",
              "    </tr>\n",
              "    <tr>\n",
              "      <th>96</th>\n",
              "      <td>97</td>\n",
              "      <td>5dbb8611f50df923e06c997f</td>\n",
              "      <td>10</td>\n",
              "      <td>5dbb85cbf50df923e06c997d</td>\n",
              "      <td>revolving</td>\n",
              "      <td>10000.0</td>\n",
              "      <td>2375.0</td>\n",
              "      <td>0.0</td>\n",
              "      <td>NaN</td>\n",
              "      <td>NaN</td>\n",
              "      <td>2015-09-17</td>\n",
              "      <td>2019-10-04</td>\n",
              "      <td>NaT</td>\n",
              "      <td>2018-07-13</td>\n",
              "      <td>2019-11-01 01:10:41.547</td>\n",
              "      <td>2019-10</td>\n",
              "      <td>0.0</td>\n",
              "    </tr>\n",
              "    <tr>\n",
              "      <th>113</th>\n",
              "      <td>114</td>\n",
              "      <td>5dbc3d6ef50df923e06c9992</td>\n",
              "      <td>1</td>\n",
              "      <td>5dbc3d6df50df923e06c998f</td>\n",
              "      <td>revolving</td>\n",
              "      <td>790.0</td>\n",
              "      <td>158.0</td>\n",
              "      <td>0.0</td>\n",
              "      <td>NaN</td>\n",
              "      <td>NaN</td>\n",
              "      <td>2016-08-12</td>\n",
              "      <td>2019-10-12</td>\n",
              "      <td>NaT</td>\n",
              "      <td>2017-06-02</td>\n",
              "      <td>2019-11-01 14:13:02.222</td>\n",
              "      <td>2019-10</td>\n",
              "      <td>0.0</td>\n",
              "    </tr>\n",
              "    <tr>\n",
              "      <th>633</th>\n",
              "      <td>634</td>\n",
              "      <td>5dbc899af50df923e06c9a1f</td>\n",
              "      <td>4</td>\n",
              "      <td>5dbc8999f50df923e06c9a1c</td>\n",
              "      <td>revolving</td>\n",
              "      <td>1410.0</td>\n",
              "      <td>729.0</td>\n",
              "      <td>0.0</td>\n",
              "      <td>NaN</td>\n",
              "      <td>NaN</td>\n",
              "      <td>2011-09-26</td>\n",
              "      <td>2019-10-26</td>\n",
              "      <td>NaT</td>\n",
              "      <td>2017-03-10</td>\n",
              "      <td>2019-11-01 19:38:02.166</td>\n",
              "      <td>2019-10</td>\n",
              "      <td>0.0</td>\n",
              "    </tr>\n",
              "  </tbody>\n",
              "</table>\n",
              "</div>"
            ],
            "text/plain": [
              "      id          credit_report_id  ...    month utilization\n",
              "33    34  5dbb7eb7f50df923e06c997a  ...  2019-10         0.0\n",
              "35    36  5dbb7eb7f50df923e06c997a  ...  2019-10         0.0\n",
              "96    97  5dbb8611f50df923e06c997f  ...  2019-10         0.0\n",
              "113  114  5dbc3d6ef50df923e06c9992  ...  2019-10         0.0\n",
              "633  634  5dbc899af50df923e06c9a1f  ...  2019-10         0.0\n",
              "\n",
              "[5 rows x 17 columns]"
            ]
          },
          "metadata": {},
          "execution_count": 95
        }
      ]
    },
    {
      "cell_type": "code",
      "metadata": {
        "colab": {
          "base_uri": "https://localhost:8080/"
        },
        "id": "smyxuOELkddJ",
        "outputId": "011846ba-852f-428c-c36e-8e6fa9da5419"
      },
      "source": [
        "len(inactive_accounts)"
      ],
      "execution_count": 96,
      "outputs": [
        {
          "output_type": "execute_result",
          "data": {
            "text/plain": [
              "363"
            ]
          },
          "metadata": {},
          "execution_count": 96
        }
      ]
    },
    {
      "cell_type": "code",
      "metadata": {
        "id": "gW-BQ-iCk-iy"
      },
      "source": [
        "inactive_accounts.to_excel('inactive_accounts.xlsx')"
      ],
      "execution_count": null,
      "outputs": []
    },
    {
      "cell_type": "code",
      "metadata": {
        "colab": {
          "base_uri": "https://localhost:8080/",
          "height": 204
        },
        "id": "df0h8f4ilGrF",
        "outputId": "c7d407c1-3912-450a-8ecf-09eccae50773"
      },
      "source": [
        "user_revolving = revolving_data.groupby('user_id')['creditLimit', 'currentBalance'].sum()\n",
        "user_revolving = user_revolving.reset_index()\n",
        "user_revolving.head(5)"
      ],
      "execution_count": 101,
      "outputs": [
        {
          "output_type": "execute_result",
          "data": {
            "text/html": [
              "<div>\n",
              "<style scoped>\n",
              "    .dataframe tbody tr th:only-of-type {\n",
              "        vertical-align: middle;\n",
              "    }\n",
              "\n",
              "    .dataframe tbody tr th {\n",
              "        vertical-align: top;\n",
              "    }\n",
              "\n",
              "    .dataframe thead th {\n",
              "        text-align: right;\n",
              "    }\n",
              "</style>\n",
              "<table border=\"1\" class=\"dataframe\">\n",
              "  <thead>\n",
              "    <tr style=\"text-align: right;\">\n",
              "      <th></th>\n",
              "      <th>user_id</th>\n",
              "      <th>creditLimit</th>\n",
              "      <th>currentBalance</th>\n",
              "    </tr>\n",
              "  </thead>\n",
              "  <tbody>\n",
              "    <tr>\n",
              "      <th>0</th>\n",
              "      <td>5dbb7b29f50df923e06c9970</td>\n",
              "      <td>400.0</td>\n",
              "      <td>150.0</td>\n",
              "    </tr>\n",
              "    <tr>\n",
              "      <th>1</th>\n",
              "      <td>5dbb7eb6f50df923e06c9977</td>\n",
              "      <td>57720.0</td>\n",
              "      <td>37181.0</td>\n",
              "    </tr>\n",
              "    <tr>\n",
              "      <th>2</th>\n",
              "      <td>5dbb85cbf50df923e06c997d</td>\n",
              "      <td>82800.0</td>\n",
              "      <td>10679.0</td>\n",
              "    </tr>\n",
              "    <tr>\n",
              "      <th>3</th>\n",
              "      <td>5dbbb2eef50df923e06c9984</td>\n",
              "      <td>12000.0</td>\n",
              "      <td>8643.0</td>\n",
              "    </tr>\n",
              "    <tr>\n",
              "      <th>4</th>\n",
              "      <td>5dbc3d6df50df923e06c998f</td>\n",
              "      <td>4990.0</td>\n",
              "      <td>3591.0</td>\n",
              "    </tr>\n",
              "  </tbody>\n",
              "</table>\n",
              "</div>"
            ],
            "text/plain": [
              "                    user_id  creditLimit  currentBalance\n",
              "0  5dbb7b29f50df923e06c9970        400.0           150.0\n",
              "1  5dbb7eb6f50df923e06c9977      57720.0         37181.0\n",
              "2  5dbb85cbf50df923e06c997d      82800.0         10679.0\n",
              "3  5dbbb2eef50df923e06c9984      12000.0          8643.0\n",
              "4  5dbc3d6df50df923e06c998f       4990.0          3591.0"
            ]
          },
          "metadata": {},
          "execution_count": 101
        }
      ]
    },
    {
      "cell_type": "code",
      "metadata": {
        "colab": {
          "base_uri": "https://localhost:8080/",
          "height": 204
        },
        "id": "SpyA8-spomFB",
        "outputId": "46715e2a-3d0f-4cc7-e821-ba3624b77847"
      },
      "source": [
        "user_revolving['utilization'] = user_revolving['currentBalance'] / user_revolving['creditLimit']\n",
        "user_revolving.head(5)"
      ],
      "execution_count": 102,
      "outputs": [
        {
          "output_type": "execute_result",
          "data": {
            "text/html": [
              "<div>\n",
              "<style scoped>\n",
              "    .dataframe tbody tr th:only-of-type {\n",
              "        vertical-align: middle;\n",
              "    }\n",
              "\n",
              "    .dataframe tbody tr th {\n",
              "        vertical-align: top;\n",
              "    }\n",
              "\n",
              "    .dataframe thead th {\n",
              "        text-align: right;\n",
              "    }\n",
              "</style>\n",
              "<table border=\"1\" class=\"dataframe\">\n",
              "  <thead>\n",
              "    <tr style=\"text-align: right;\">\n",
              "      <th></th>\n",
              "      <th>user_id</th>\n",
              "      <th>creditLimit</th>\n",
              "      <th>currentBalance</th>\n",
              "      <th>utilization</th>\n",
              "    </tr>\n",
              "  </thead>\n",
              "  <tbody>\n",
              "    <tr>\n",
              "      <th>0</th>\n",
              "      <td>5dbb7b29f50df923e06c9970</td>\n",
              "      <td>400.0</td>\n",
              "      <td>150.0</td>\n",
              "      <td>0.375000</td>\n",
              "    </tr>\n",
              "    <tr>\n",
              "      <th>1</th>\n",
              "      <td>5dbb7eb6f50df923e06c9977</td>\n",
              "      <td>57720.0</td>\n",
              "      <td>37181.0</td>\n",
              "      <td>0.644161</td>\n",
              "    </tr>\n",
              "    <tr>\n",
              "      <th>2</th>\n",
              "      <td>5dbb85cbf50df923e06c997d</td>\n",
              "      <td>82800.0</td>\n",
              "      <td>10679.0</td>\n",
              "      <td>0.128973</td>\n",
              "    </tr>\n",
              "    <tr>\n",
              "      <th>3</th>\n",
              "      <td>5dbbb2eef50df923e06c9984</td>\n",
              "      <td>12000.0</td>\n",
              "      <td>8643.0</td>\n",
              "      <td>0.720250</td>\n",
              "    </tr>\n",
              "    <tr>\n",
              "      <th>4</th>\n",
              "      <td>5dbc3d6df50df923e06c998f</td>\n",
              "      <td>4990.0</td>\n",
              "      <td>3591.0</td>\n",
              "      <td>0.719639</td>\n",
              "    </tr>\n",
              "  </tbody>\n",
              "</table>\n",
              "</div>"
            ],
            "text/plain": [
              "                    user_id  creditLimit  currentBalance  utilization\n",
              "0  5dbb7b29f50df923e06c9970        400.0           150.0     0.375000\n",
              "1  5dbb7eb6f50df923e06c9977      57720.0         37181.0     0.644161\n",
              "2  5dbb85cbf50df923e06c997d      82800.0         10679.0     0.128973\n",
              "3  5dbbb2eef50df923e06c9984      12000.0          8643.0     0.720250\n",
              "4  5dbc3d6df50df923e06c998f       4990.0          3591.0     0.719639"
            ]
          },
          "metadata": {},
          "execution_count": 102
        }
      ]
    },
    {
      "cell_type": "code",
      "metadata": {
        "colab": {
          "base_uri": "https://localhost:8080/",
          "height": 350
        },
        "id": "2k9qSTvyoutn",
        "outputId": "949e200b-3b8d-4a03-dcd6-a76649639ff4"
      },
      "source": [
        "plt.figure(figsize=(8,5))\n",
        "n, bins, patches = plt.hist(x=user_revolving['utilization'], bins='auto', alpha=0.7, rwidth=0.85)\n",
        "plt.grid(axis='y', alpha=0.75)\n",
        "plt.xlabel('utilization rate')\n",
        "plt.ylabel('number of users')\n",
        "plt.title('Histogram of utilization rate for revolving trades')\n",
        "plt.show()"
      ],
      "execution_count": 103,
      "outputs": [
        {
          "output_type": "display_data",
          "data": {
            "image/png": "[encoded data removed]",
            "text/plain": [
              "<Figure size 576x360 with 1 Axes>"
            ]
          },
          "metadata": {
            "needs_background": "light"
          }
        }
      ]
    },
    {
      "cell_type": "code",
      "metadata": {
        "colab": {
          "base_uri": "https://localhost:8080/",
          "height": 419
        },
        "id": "dzeNCrc3pL4h",
        "outputId": "efebafa1-9262-4805-8db9-862197fba4ed"
      },
      "source": [
        "user_revolving[user_revolving['utilization'] > 0.3]"
      ],
      "execution_count": 104,
      "outputs": [
        {
          "output_type": "execute_result",
          "data": {
            "text/html": [
              "<div>\n",
              "<style scoped>\n",
              "    .dataframe tbody tr th:only-of-type {\n",
              "        vertical-align: middle;\n",
              "    }\n",
              "\n",
              "    .dataframe tbody tr th {\n",
              "        vertical-align: top;\n",
              "    }\n",
              "\n",
              "    .dataframe thead th {\n",
              "        text-align: right;\n",
              "    }\n",
              "</style>\n",
              "<table border=\"1\" class=\"dataframe\">\n",
              "  <thead>\n",
              "    <tr style=\"text-align: right;\">\n",
              "      <th></th>\n",
              "      <th>user_id</th>\n",
              "      <th>creditLimit</th>\n",
              "      <th>currentBalance</th>\n",
              "      <th>utilization</th>\n",
              "    </tr>\n",
              "  </thead>\n",
              "  <tbody>\n",
              "    <tr>\n",
              "      <th>0</th>\n",
              "      <td>5dbb7b29f50df923e06c9970</td>\n",
              "      <td>400.0</td>\n",
              "      <td>150.0</td>\n",
              "      <td>0.375000</td>\n",
              "    </tr>\n",
              "    <tr>\n",
              "      <th>1</th>\n",
              "      <td>5dbb7eb6f50df923e06c9977</td>\n",
              "      <td>57720.0</td>\n",
              "      <td>37181.0</td>\n",
              "      <td>0.644161</td>\n",
              "    </tr>\n",
              "    <tr>\n",
              "      <th>3</th>\n",
              "      <td>5dbbb2eef50df923e06c9984</td>\n",
              "      <td>12000.0</td>\n",
              "      <td>8643.0</td>\n",
              "      <td>0.720250</td>\n",
              "    </tr>\n",
              "    <tr>\n",
              "      <th>4</th>\n",
              "      <td>5dbc3d6df50df923e06c998f</td>\n",
              "      <td>4990.0</td>\n",
              "      <td>3591.0</td>\n",
              "      <td>0.719639</td>\n",
              "    </tr>\n",
              "    <tr>\n",
              "      <th>5</th>\n",
              "      <td>5dbc401ff50df923e06c9999</td>\n",
              "      <td>23250.0</td>\n",
              "      <td>20140.0</td>\n",
              "      <td>0.866237</td>\n",
              "    </tr>\n",
              "    <tr>\n",
              "      <th>...</th>\n",
              "      <td>...</td>\n",
              "      <td>...</td>\n",
              "      <td>...</td>\n",
              "      <td>...</td>\n",
              "    </tr>\n",
              "    <tr>\n",
              "      <th>854</th>\n",
              "      <td>5de183cde1c4624e16eb895c</td>\n",
              "      <td>39500.0</td>\n",
              "      <td>21531.0</td>\n",
              "      <td>0.545089</td>\n",
              "    </tr>\n",
              "    <tr>\n",
              "      <th>855</th>\n",
              "      <td>5de18772e1c4624e16eb8963</td>\n",
              "      <td>18050.0</td>\n",
              "      <td>13296.0</td>\n",
              "      <td>0.736620</td>\n",
              "    </tr>\n",
              "    <tr>\n",
              "      <th>856</th>\n",
              "      <td>5de18cd8e1c4624e16eb896a</td>\n",
              "      <td>1100.0</td>\n",
              "      <td>989.0</td>\n",
              "      <td>0.899091</td>\n",
              "    </tr>\n",
              "    <tr>\n",
              "      <th>857</th>\n",
              "      <td>5de19302e1c4624e16eb897a</td>\n",
              "      <td>19000.0</td>\n",
              "      <td>17545.0</td>\n",
              "      <td>0.923421</td>\n",
              "    </tr>\n",
              "    <tr>\n",
              "      <th>858</th>\n",
              "      <td>5de1a863e1c4624e16eb8982</td>\n",
              "      <td>10650.0</td>\n",
              "      <td>6854.0</td>\n",
              "      <td>0.643568</td>\n",
              "    </tr>\n",
              "  </tbody>\n",
              "</table>\n",
              "<p>774 rows × 4 columns</p>\n",
              "</div>"
            ],
            "text/plain": [
              "                      user_id  creditLimit  currentBalance  utilization\n",
              "0    5dbb7b29f50df923e06c9970        400.0           150.0     0.375000\n",
              "1    5dbb7eb6f50df923e06c9977      57720.0         37181.0     0.644161\n",
              "3    5dbbb2eef50df923e06c9984      12000.0          8643.0     0.720250\n",
              "4    5dbc3d6df50df923e06c998f       4990.0          3591.0     0.719639\n",
              "5    5dbc401ff50df923e06c9999      23250.0         20140.0     0.866237\n",
              "..                        ...          ...             ...          ...\n",
              "854  5de183cde1c4624e16eb895c      39500.0         21531.0     0.545089\n",
              "855  5de18772e1c4624e16eb8963      18050.0         13296.0     0.736620\n",
              "856  5de18cd8e1c4624e16eb896a       1100.0           989.0     0.899091\n",
              "857  5de19302e1c4624e16eb897a      19000.0         17545.0     0.923421\n",
              "858  5de1a863e1c4624e16eb8982      10650.0          6854.0     0.643568\n",
              "\n",
              "[774 rows x 4 columns]"
            ]
          },
          "metadata": {},
          "execution_count": 104
        }
      ]
    },
    {
      "cell_type": "code",
      "metadata": {
        "colab": {
          "base_uri": "https://localhost:8080/"
        },
        "id": "TpNwvichpRqE",
        "outputId": "f9482976-7c70-45ce-a6e2-68aca837bf8f"
      },
      "source": [
        "len(user_revolving[user_revolving['utilization'] > 0.3]) / len(user_revolving)"
      ],
      "execution_count": 105,
      "outputs": [
        {
          "output_type": "execute_result",
          "data": {
            "text/plain": [
              "0.9010477299185099"
            ]
          },
          "metadata": {},
          "execution_count": 105
        }
      ]
    },
    {
      "cell_type": "code",
      "metadata": {
        "colab": {
          "base_uri": "https://localhost:8080/"
        },
        "id": "dpVwJzHypWU0",
        "outputId": "739ceb86-c739-4038-b307-5630f3556dfc"
      },
      "source": [
        "len(user_revolving[user_revolving['utilization'] > 1]) / len(user_revolving)"
      ],
      "execution_count": 108,
      "outputs": [
        {
          "output_type": "execute_result",
          "data": {
            "text/plain": [
              "0.10593713620488941"
            ]
          },
          "metadata": {},
          "execution_count": 108
        }
      ]
    },
    {
      "cell_type": "code",
      "metadata": {
        "colab": {
          "base_uri": "https://localhost:8080/",
          "height": 80
        },
        "id": "YiadQE4npxIZ",
        "outputId": "8e63a13b-b631-4bb3-ca7c-9e2d4c5e2a6d"
      },
      "source": [
        "user_revolving_table = {\n",
        "    'utilization <= 30%': [len(user_revolving[user_revolving['utilization'] <= 0.3]) / len(user_revolving)],\n",
        "    'utilization > 30%': [len(user_revolving[user_revolving['utilization'] > 0.3]) / len(user_revolving)],\n",
        "    'utilization > 50%': [len(user_revolving[user_revolving['utilization'] > 0.5]) / len(user_revolving)],\n",
        "    'utilization > 100%': [len(user_revolving[user_revolving['utilization'] > 1]) / len(user_revolving)]\n",
        "}\n",
        "user_revolving_df = pd.DataFrame(user_revolving_table)\n",
        "user_revolving_df"
      ],
      "execution_count": 112,
      "outputs": [
        {
          "output_type": "execute_result",
          "data": {
            "text/html": [
              "<div>\n",
              "<style scoped>\n",
              "    .dataframe tbody tr th:only-of-type {\n",
              "        vertical-align: middle;\n",
              "    }\n",
              "\n",
              "    .dataframe tbody tr th {\n",
              "        vertical-align: top;\n",
              "    }\n",
              "\n",
              "    .dataframe thead th {\n",
              "        text-align: right;\n",
              "    }\n",
              "</style>\n",
              "<table border=\"1\" class=\"dataframe\">\n",
              "  <thead>\n",
              "    <tr style=\"text-align: right;\">\n",
              "      <th></th>\n",
              "      <th>utilization &lt;= 30%</th>\n",
              "      <th>utilization &gt; 30%</th>\n",
              "      <th>utilization &gt; 50%</th>\n",
              "      <th>utilization &gt; 100%</th>\n",
              "    </tr>\n",
              "  </thead>\n",
              "  <tbody>\n",
              "    <tr>\n",
              "      <th>0</th>\n",
              "      <td>0.098952</td>\n",
              "      <td>0.901048</td>\n",
              "      <td>0.807916</td>\n",
              "      <td>0.105937</td>\n",
              "    </tr>\n",
              "  </tbody>\n",
              "</table>\n",
              "</div>"
            ],
            "text/plain": [
              "   utilization <= 30%  utilization > 30%  utilization > 50%  utilization > 100%\n",
              "0            0.098952           0.901048           0.807916            0.105937"
            ]
          },
          "metadata": {},
          "execution_count": 112
        }
      ]
    }
  ]
}